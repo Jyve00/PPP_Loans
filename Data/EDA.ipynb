{
 "cells": [
  {
   "cell_type": "markdown",
   "metadata": {},
   "source": [
    "# EDA\n"
   ]
  },
  {
   "cell_type": "code",
   "execution_count": 146,
   "metadata": {},
   "outputs": [],
   "source": [
    "import numpy as np \n",
    "import pandas as pd \n",
    "import matplotlib.pyplot as plt \n",
    "import missingno as msno\n",
    "pd.options.display.float_format = '{:.2f}'.format\n",
    "from sklearn.model_selection import train_test_split\n",
    "from sklearn.preprocessing import StandardScaler\n",
    "from sklearn.linear_model import LinearRegression\n",
    "\n",
    "import torch \n",
    "import torch.nn as nn\n",
    "from torch.utils.data import TensorDataset, DataLoader\n",
    "\n",
    "\n",
    "from sklearn.metrics import r2_score, mean_squared_error, mean_squared_log_error\n",
    "\n",
    "# https://www.kaggle.com/vaibhav2025/ppp-loans-during-the-covid19-pandemic-in-usa/metadata"
   ]
  },
  {
   "cell_type": "markdown",
   "metadata": {},
   "source": [
    "# Load in data \n",
    "Use Pandas to import csv file. the columns are sperated by '|' so we set sep='|'"
   ]
  },
  {
   "cell_type": "code",
   "execution_count": 96,
   "metadata": {},
   "outputs": [],
   "source": [
    "df = pd.read_csv('/Users/stephen/Desktop/PPP_Loans/Data/query_20211221_082058.csv', sep='|')"
   ]
  },
  {
   "cell_type": "code",
   "execution_count": 97,
   "metadata": {},
   "outputs": [
    {
     "data": {
      "text/html": [
       "<div>\n",
       "<style scoped>\n",
       "    .dataframe tbody tr th:only-of-type {\n",
       "        vertical-align: middle;\n",
       "    }\n",
       "\n",
       "    .dataframe tbody tr th {\n",
       "        vertical-align: top;\n",
       "    }\n",
       "\n",
       "    .dataframe thead th {\n",
       "        text-align: right;\n",
       "    }\n",
       "</style>\n",
       "<table border=\"1\" class=\"dataframe\">\n",
       "  <thead>\n",
       "    <tr style=\"text-align: right;\">\n",
       "      <th></th>\n",
       "      <th>loannumber</th>\n",
       "      <th>originatinglenderlocationid</th>\n",
       "      <th>cert</th>\n",
       "      <th>cb</th>\n",
       "      <th>stchrtr</th>\n",
       "      <th>dateapproved</th>\n",
       "      <th>borrowername</th>\n",
       "      <th>borrowercity</th>\n",
       "      <th>borrowerstate</th>\n",
       "      <th>originatinglender</th>\n",
       "      <th>originatinglendercity</th>\n",
       "      <th>originatinglenderstate</th>\n",
       "      <th>naicscode</th>\n",
       "      <th>ruralurbanindicator</th>\n",
       "      <th>lmiindicator</th>\n",
       "      <th>minority</th>\n",
       "      <th>currentapprovalamount</th>\n",
       "      <th>jobsreported</th>\n",
       "      <th>forgivenessamount</th>\n",
       "    </tr>\n",
       "  </thead>\n",
       "  <tbody>\n",
       "    <tr>\n",
       "      <th>0</th>\n",
       "      <td>9547167709</td>\n",
       "      <td>19248.00</td>\n",
       "      <td>873.00</td>\n",
       "      <td>0.00</td>\n",
       "      <td>1.00</td>\n",
       "      <td>2020-05-01 00:00:00.000000</td>\n",
       "      <td>Q AND J SERVICES LLC</td>\n",
       "      <td>Manning</td>\n",
       "      <td>NaN</td>\n",
       "      <td>Synovus Bank</td>\n",
       "      <td>COLUMBUS</td>\n",
       "      <td>GA</td>\n",
       "      <td>541990.00</td>\n",
       "      <td>U</td>\n",
       "      <td>1.00</td>\n",
       "      <td>NaN</td>\n",
       "      <td>136520.96</td>\n",
       "      <td>170.00</td>\n",
       "      <td>137747.78</td>\n",
       "    </tr>\n",
       "    <tr>\n",
       "      <th>1</th>\n",
       "      <td>9589997709</td>\n",
       "      <td>57328.00</td>\n",
       "      <td>6560.00</td>\n",
       "      <td>0.00</td>\n",
       "      <td>0.00</td>\n",
       "      <td>2020-05-01 00:00:00.000000</td>\n",
       "      <td>TJK KITCHENS &amp;AMP; BREWPUBS, LLC</td>\n",
       "      <td>NaN</td>\n",
       "      <td>NaN</td>\n",
       "      <td>The Huntington National Bank</td>\n",
       "      <td>COLUMBUS</td>\n",
       "      <td>OH</td>\n",
       "      <td>238990.00</td>\n",
       "      <td>U</td>\n",
       "      <td>0.00</td>\n",
       "      <td>NaN</td>\n",
       "      <td>109988.00</td>\n",
       "      <td>8.00</td>\n",
       "      <td>110881.96</td>\n",
       "    </tr>\n",
       "    <tr>\n",
       "      <th>2</th>\n",
       "      <td>5569977708</td>\n",
       "      <td>9551.00</td>\n",
       "      <td>3510.00</td>\n",
       "      <td>0.00</td>\n",
       "      <td>0.00</td>\n",
       "      <td>2020-05-01 00:00:00.000000</td>\n",
       "      <td>NOT AVAILABLE</td>\n",
       "      <td>NaN</td>\n",
       "      <td>NaN</td>\n",
       "      <td>Bank of America, National Association</td>\n",
       "      <td>CHARLOTTE</td>\n",
       "      <td>NC</td>\n",
       "      <td>339114.00</td>\n",
       "      <td>U</td>\n",
       "      <td>0.00</td>\n",
       "      <td>NaN</td>\n",
       "      <td>90394.00</td>\n",
       "      <td>20.00</td>\n",
       "      <td>91404.43</td>\n",
       "    </tr>\n",
       "    <tr>\n",
       "      <th>3</th>\n",
       "      <td>9595817708</td>\n",
       "      <td>57328.00</td>\n",
       "      <td>6560.00</td>\n",
       "      <td>0.00</td>\n",
       "      <td>0.00</td>\n",
       "      <td>2020-05-01 00:00:00.000000</td>\n",
       "      <td>STERLING HOME CARE INC</td>\n",
       "      <td>NaN</td>\n",
       "      <td>NaN</td>\n",
       "      <td>The Huntington National Bank</td>\n",
       "      <td>COLUMBUS</td>\n",
       "      <td>OH</td>\n",
       "      <td>621610.00</td>\n",
       "      <td>U</td>\n",
       "      <td>0.00</td>\n",
       "      <td>NaN</td>\n",
       "      <td>79003.00</td>\n",
       "      <td>6.00</td>\n",
       "      <td>79699.96</td>\n",
       "    </tr>\n",
       "    <tr>\n",
       "      <th>4</th>\n",
       "      <td>9810697702</td>\n",
       "      <td>57328.00</td>\n",
       "      <td>6560.00</td>\n",
       "      <td>0.00</td>\n",
       "      <td>0.00</td>\n",
       "      <td>2020-05-01 00:00:00.000000</td>\n",
       "      <td>BRILACK INC</td>\n",
       "      <td>NaN</td>\n",
       "      <td>NaN</td>\n",
       "      <td>The Huntington National Bank</td>\n",
       "      <td>COLUMBUS</td>\n",
       "      <td>OH</td>\n",
       "      <td>424410.00</td>\n",
       "      <td>U</td>\n",
       "      <td>0.00</td>\n",
       "      <td>NaN</td>\n",
       "      <td>57430.00</td>\n",
       "      <td>4.00</td>\n",
       "      <td>57922.48</td>\n",
       "    </tr>\n",
       "  </tbody>\n",
       "</table>\n",
       "</div>"
      ],
      "text/plain": [
       "   loannumber  originatinglenderlocationid  ...  jobsreported  forgivenessamount\n",
       "0  9547167709                     19248.00  ...        170.00          137747.78\n",
       "1  9589997709                     57328.00  ...          8.00          110881.96\n",
       "2  5569977708                      9551.00  ...         20.00           91404.43\n",
       "3  9595817708                     57328.00  ...          6.00           79699.96\n",
       "4  9810697702                     57328.00  ...          4.00           57922.48\n",
       "\n",
       "[5 rows x 19 columns]"
      ]
     },
     "execution_count": 97,
     "metadata": {},
     "output_type": "execute_result"
    }
   ],
   "source": [
    "df.head()"
   ]
  },
  {
   "cell_type": "code",
   "execution_count": 98,
   "metadata": {},
   "outputs": [
    {
     "name": "stdout",
     "output_type": "stream",
     "text": [
      "The dataset contains 8863652 rows and 19 columns.\n"
     ]
    }
   ],
   "source": [
    "print(f\"The dataset contains {df.shape[0]} rows and {df.shape[1]} columns.\")"
   ]
  },
  {
   "cell_type": "code",
   "execution_count": 99,
   "metadata": {},
   "outputs": [
    {
     "data": {
      "text/html": [
       "<div>\n",
       "<style scoped>\n",
       "    .dataframe tbody tr th:only-of-type {\n",
       "        vertical-align: middle;\n",
       "    }\n",
       "\n",
       "    .dataframe tbody tr th {\n",
       "        vertical-align: top;\n",
       "    }\n",
       "\n",
       "    .dataframe thead th {\n",
       "        text-align: right;\n",
       "    }\n",
       "</style>\n",
       "<table border=\"1\" class=\"dataframe\">\n",
       "  <thead>\n",
       "    <tr style=\"text-align: right;\">\n",
       "      <th></th>\n",
       "      <th>loannumber</th>\n",
       "      <th>originatinglenderlocationid</th>\n",
       "      <th>cert</th>\n",
       "      <th>cb</th>\n",
       "      <th>stchrtr</th>\n",
       "      <th>naicscode</th>\n",
       "      <th>lmiindicator</th>\n",
       "      <th>minority</th>\n",
       "      <th>currentapprovalamount</th>\n",
       "      <th>jobsreported</th>\n",
       "      <th>forgivenessamount</th>\n",
       "    </tr>\n",
       "  </thead>\n",
       "  <tbody>\n",
       "    <tr>\n",
       "      <th>count</th>\n",
       "      <td>8863652.00</td>\n",
       "      <td>8863642.00</td>\n",
       "      <td>6087184.00</td>\n",
       "      <td>6087184.00</td>\n",
       "      <td>6087184.00</td>\n",
       "      <td>8731249.00</td>\n",
       "      <td>8863648.00</td>\n",
       "      <td>2268874.00</td>\n",
       "      <td>8863652.00</td>\n",
       "      <td>8863645.00</td>\n",
       "      <td>3999455.00</td>\n",
       "    </tr>\n",
       "    <tr>\n",
       "      <th>mean</th>\n",
       "      <td>5532315709.90</td>\n",
       "      <td>202928.59</td>\n",
       "      <td>20587.82</td>\n",
       "      <td>0.39</td>\n",
       "      <td>0.61</td>\n",
       "      <td>530434.31</td>\n",
       "      <td>0.29</td>\n",
       "      <td>0.56</td>\n",
       "      <td>66553.74</td>\n",
       "      <td>7.56</td>\n",
       "      <td>96772.32</td>\n",
       "    </tr>\n",
       "    <tr>\n",
       "      <th>std</th>\n",
       "      <td>2590909044.79</td>\n",
       "      <td>203155.97</td>\n",
       "      <td>19532.27</td>\n",
       "      <td>0.49</td>\n",
       "      <td>0.49</td>\n",
       "      <td>200758.69</td>\n",
       "      <td>0.45</td>\n",
       "      <td>0.50</td>\n",
       "      <td>275385.15</td>\n",
       "      <td>26.31</td>\n",
       "      <td>317108.13</td>\n",
       "    </tr>\n",
       "    <tr>\n",
       "      <th>min</th>\n",
       "      <td>1000007108.00</td>\n",
       "      <td>20.00</td>\n",
       "      <td>35.00</td>\n",
       "      <td>0.00</td>\n",
       "      <td>0.00</td>\n",
       "      <td>111110.00</td>\n",
       "      <td>0.00</td>\n",
       "      <td>0.00</td>\n",
       "      <td>0.00</td>\n",
       "      <td>-6.00</td>\n",
       "      <td>0.01</td>\n",
       "    </tr>\n",
       "    <tr>\n",
       "      <th>25%</th>\n",
       "      <td>3327685052.75</td>\n",
       "      <td>41921.00</td>\n",
       "      <td>4239.00</td>\n",
       "      <td>0.00</td>\n",
       "      <td>0.00</td>\n",
       "      <td>445220.00</td>\n",
       "      <td>0.00</td>\n",
       "      <td>0.00</td>\n",
       "      <td>9000.00</td>\n",
       "      <td>1.00</td>\n",
       "      <td>10823.23</td>\n",
       "    </tr>\n",
       "    <tr>\n",
       "      <th>50%</th>\n",
       "      <td>5548108106.00</td>\n",
       "      <td>96485.00</td>\n",
       "      <td>14028.00</td>\n",
       "      <td>0.00</td>\n",
       "      <td>1.00</td>\n",
       "      <td>541211.00</td>\n",
       "      <td>0.00</td>\n",
       "      <td>1.00</td>\n",
       "      <td>20254.00</td>\n",
       "      <td>1.00</td>\n",
       "      <td>22808.64</td>\n",
       "    </tr>\n",
       "    <tr>\n",
       "      <th>75%</th>\n",
       "      <td>7764707804.00</td>\n",
       "      <td>456756.00</td>\n",
       "      <td>33555.00</td>\n",
       "      <td>1.00</td>\n",
       "      <td>1.00</td>\n",
       "      <td>711130.00</td>\n",
       "      <td>1.00</td>\n",
       "      <td>1.00</td>\n",
       "      <td>33418.18</td>\n",
       "      <td>5.00</td>\n",
       "      <td>69227.28</td>\n",
       "    </tr>\n",
       "    <tr>\n",
       "      <th>max</th>\n",
       "      <td>9999008900.00</td>\n",
       "      <td>533479.00</td>\n",
       "      <td>91280.00</td>\n",
       "      <td>1.00</td>\n",
       "      <td>1.00</td>\n",
       "      <td>999990.00</td>\n",
       "      <td>1.00</td>\n",
       "      <td>1.00</td>\n",
       "      <td>10000000.00</td>\n",
       "      <td>500.00</td>\n",
       "      <td>10123888.89</td>\n",
       "    </tr>\n",
       "  </tbody>\n",
       "</table>\n",
       "</div>"
      ],
      "text/plain": [
       "         loannumber  ...  forgivenessamount\n",
       "count    8863652.00  ...         3999455.00\n",
       "mean  5532315709.90  ...           96772.32\n",
       "std   2590909044.79  ...          317108.13\n",
       "min   1000007108.00  ...               0.01\n",
       "25%   3327685052.75  ...           10823.23\n",
       "50%   5548108106.00  ...           22808.64\n",
       "75%   7764707804.00  ...           69227.28\n",
       "max   9999008900.00  ...        10123888.89\n",
       "\n",
       "[8 rows x 11 columns]"
      ]
     },
     "execution_count": 99,
     "metadata": {},
     "output_type": "execute_result"
    }
   ],
   "source": [
    "df.describe()"
   ]
  },
  {
   "cell_type": "code",
   "execution_count": 100,
   "metadata": {},
   "outputs": [
    {
     "name": "stdout",
     "output_type": "stream",
     "text": [
      "<class 'pandas.core.frame.DataFrame'>\n",
      "RangeIndex: 8863652 entries, 0 to 8863651\n",
      "Data columns (total 19 columns):\n",
      " #   Column                       Dtype  \n",
      "---  ------                       -----  \n",
      " 0   loannumber                   int64  \n",
      " 1   originatinglenderlocationid  float64\n",
      " 2   cert                         float64\n",
      " 3   cb                           float64\n",
      " 4   stchrtr                      float64\n",
      " 5   dateapproved                 object \n",
      " 6   borrowername                 object \n",
      " 7   borrowercity                 object \n",
      " 8   borrowerstate                object \n",
      " 9   originatinglender            object \n",
      " 10  originatinglendercity        object \n",
      " 11  originatinglenderstate       object \n",
      " 12  naicscode                    float64\n",
      " 13  ruralurbanindicator          object \n",
      " 14  lmiindicator                 float64\n",
      " 15  minority                     float64\n",
      " 16  currentapprovalamount        float64\n",
      " 17  jobsreported                 float64\n",
      " 18  forgivenessamount            float64\n",
      "dtypes: float64(10), int64(1), object(8)\n",
      "memory usage: 1.3+ GB\n"
     ]
    }
   ],
   "source": [
    "df.info()"
   ]
  },
  {
   "cell_type": "markdown",
   "metadata": {},
   "source": [
    "# exploring NaN values"
   ]
  },
  {
   "cell_type": "markdown",
   "metadata": {},
   "source": [
    "msno.matrix(df)"
   ]
  },
  {
   "cell_type": "markdown",
   "metadata": {},
   "source": []
  },
  {
   "cell_type": "code",
   "execution_count": 101,
   "metadata": {},
   "outputs": [],
   "source": [
    "#msno.matrix(df)"
   ]
  },
  {
   "cell_type": "code",
   "execution_count": 102,
   "metadata": {},
   "outputs": [],
   "source": [
    "#msno.bar(df)"
   ]
  },
  {
   "cell_type": "code",
   "execution_count": 103,
   "metadata": {},
   "outputs": [],
   "source": [
    "#msno.heatmap(df)"
   ]
  },
  {
   "cell_type": "code",
   "execution_count": 104,
   "metadata": {},
   "outputs": [],
   "source": [
    "#msno.dendrogram(df)"
   ]
  },
  {
   "cell_type": "code",
   "execution_count": 105,
   "metadata": {},
   "outputs": [
    {
     "data": {
      "text/plain": [
       "count    8863652.00\n",
       "mean       66553.74\n",
       "std       275385.15\n",
       "min            0.00\n",
       "25%         9000.00\n",
       "50%        20254.00\n",
       "75%        33418.18\n",
       "max     10000000.00\n",
       "Name: currentapprovalamount, dtype: float64"
      ]
     },
     "execution_count": 105,
     "metadata": {},
     "output_type": "execute_result"
    }
   ],
   "source": [
    "df['currentapprovalamount'].describe()"
   ]
  },
  {
   "cell_type": "code",
   "execution_count": 106,
   "metadata": {},
   "outputs": [
    {
     "data": {
      "text/plain": [
       "(array([7.872864e+06, 4.783210e+05, 1.728860e+05, 8.931000e+04,\n",
       "        5.488000e+04, 3.671900e+04, 2.646300e+04, 2.010300e+04,\n",
       "        1.547700e+04, 1.244100e+04, 1.030300e+04, 8.072000e+03,\n",
       "        6.991000e+03, 5.810000e+03, 5.019000e+03, 4.560000e+03,\n",
       "        3.878000e+03, 3.476000e+03, 3.303000e+03, 3.042000e+03,\n",
       "        2.232000e+03, 1.928000e+03, 1.801000e+03, 1.595000e+03,\n",
       "        1.475000e+03, 1.421000e+03, 1.161000e+03, 1.098000e+03,\n",
       "        1.010000e+03, 9.340000e+02, 9.580000e+02, 8.230000e+02,\n",
       "        7.770000e+02, 7.080000e+02, 6.330000e+02, 6.310000e+02,\n",
       "        5.780000e+02, 5.340000e+02, 4.940000e+02, 5.000000e+02,\n",
       "        4.570000e+02, 4.410000e+02, 3.670000e+02, 3.440000e+02,\n",
       "        3.550000e+02, 3.230000e+02, 3.200000e+02, 2.720000e+02,\n",
       "        2.550000e+02, 2.410000e+02, 2.690000e+02, 2.350000e+02,\n",
       "        1.910000e+02, 2.000000e+02, 1.920000e+02, 1.900000e+02,\n",
       "        1.580000e+02, 1.450000e+02, 1.680000e+02, 1.380000e+02,\n",
       "        1.430000e+02, 1.400000e+02, 1.280000e+02, 9.300000e+01,\n",
       "        1.050000e+02, 1.130000e+02, 1.120000e+02, 7.200000e+01,\n",
       "        8.700000e+01, 8.500000e+01, 9.700000e+01, 7.000000e+01,\n",
       "        7.600000e+01, 6.100000e+01, 6.500000e+01, 7.700000e+01,\n",
       "        5.600000e+01, 5.700000e+01, 6.000000e+01, 5.200000e+01,\n",
       "        5.600000e+01, 5.800000e+01, 4.800000e+01, 4.000000e+01,\n",
       "        4.900000e+01, 4.000000e+01, 4.400000e+01, 3.200000e+01,\n",
       "        3.000000e+01, 3.500000e+01, 3.600000e+01, 3.900000e+01,\n",
       "        3.100000e+01, 2.600000e+01, 2.900000e+01, 2.900000e+01,\n",
       "        2.300000e+01, 2.100000e+01, 1.900000e+01, 7.480000e+02]),\n",
       " array([       0.,   100000.,   200000.,   300000.,   400000.,   500000.,\n",
       "          600000.,   700000.,   800000.,   900000.,  1000000.,  1100000.,\n",
       "         1200000.,  1300000.,  1400000.,  1500000.,  1600000.,  1700000.,\n",
       "         1800000.,  1900000.,  2000000.,  2100000.,  2200000.,  2300000.,\n",
       "         2400000.,  2500000.,  2600000.,  2700000.,  2800000.,  2900000.,\n",
       "         3000000.,  3100000.,  3200000.,  3300000.,  3400000.,  3500000.,\n",
       "         3600000.,  3700000.,  3800000.,  3900000.,  4000000.,  4100000.,\n",
       "         4200000.,  4300000.,  4400000.,  4500000.,  4600000.,  4700000.,\n",
       "         4800000.,  4900000.,  5000000.,  5100000.,  5200000.,  5300000.,\n",
       "         5400000.,  5500000.,  5600000.,  5700000.,  5800000.,  5900000.,\n",
       "         6000000.,  6100000.,  6200000.,  6300000.,  6400000.,  6500000.,\n",
       "         6600000.,  6700000.,  6800000.,  6900000.,  7000000.,  7100000.,\n",
       "         7200000.,  7300000.,  7400000.,  7500000.,  7600000.,  7700000.,\n",
       "         7800000.,  7900000.,  8000000.,  8100000.,  8200000.,  8300000.,\n",
       "         8400000.,  8500000.,  8600000.,  8700000.,  8800000.,  8900000.,\n",
       "         9000000.,  9100000.,  9200000.,  9300000.,  9400000.,  9500000.,\n",
       "         9600000.,  9700000.,  9800000.,  9900000., 10000000.]),\n",
       " <BarContainer object of 100 artists>)"
      ]
     },
     "execution_count": 106,
     "metadata": {},
     "output_type": "execute_result"
    },
    {
     "data": {
      "image/png": "[encoded data removed]",
      "text/plain": [
       "<Figure size 432x288 with 1 Axes>"
      ]
     },
     "metadata": {
      "needs_background": "light"
     },
     "output_type": "display_data"
    }
   ],
   "source": [
    "plt.hist(df['currentapprovalamount'], bins=100)"
   ]
  },
  {
   "cell_type": "code",
   "execution_count": 107,
   "metadata": {},
   "outputs": [
    {
     "data": {
      "text/plain": [
       "Prestamos CDFI, LLC                          476874\n",
       "Capital Plus Financial, LLC                  403505\n",
       "Cross River Bank                             394679\n",
       "Bank of America, National Association        356986\n",
       "JPMorgan Chase Bank, National Association    316061\n",
       "                                              ...  \n",
       "Members Heritage CU                               1\n",
       "New Bedford CU                                    1\n",
       "Five Star of Maryland FCU                         1\n",
       "North Cambridge Co-Operative Bank                 1\n",
       "T M H FCU                                         1\n",
       "Name: originatinglender, Length: 4886, dtype: int64"
      ]
     },
     "execution_count": 107,
     "metadata": {},
     "output_type": "execute_result"
    }
   ],
   "source": [
    "df['originatinglender'].value_counts()"
   ]
  },
  {
   "cell_type": "code",
   "execution_count": 108,
   "metadata": {},
   "outputs": [
    {
     "data": {
      "text/plain": [
       "originatinglender\n",
       "JPMorgan Chase Bank, National Association     30694795665.67\n",
       "Bank of America, National Association         26053443664.59\n",
       "PNC Bank, National Association                13483010569.14\n",
       "Truist Bank d/b/a Branch Banking & Trust Co   12933509357.54\n",
       "Wells Fargo Bank, National Association        11066018295.69\n",
       "                                                   ...      \n",
       "North Cambridge Co-Operative Bank                    8380.00\n",
       "South Side Community FCU                             6427.00\n",
       "New Bedford CU                                       5824.00\n",
       "One Vision FCU                                       5468.75\n",
       "High Peaks FCU                                       2500.00\n",
       "Name: currentapprovalamount, Length: 4886, dtype: float64"
      ]
     },
     "execution_count": 108,
     "metadata": {},
     "output_type": "execute_result"
    }
   ],
   "source": [
    "df.groupby(['originatinglender'])['currentapprovalamount'].sum().sort_values(ascending=False)"
   ]
  },
  {
   "cell_type": "code",
   "execution_count": 109,
   "metadata": {},
   "outputs": [
    {
     "name": "stdout",
     "output_type": "stream",
     "text": [
      "Total Current Approval Amount: 589,909,198,479.669\n"
     ]
    }
   ],
   "source": [
    "print(\"Total Current Approval Amount: \" + \"{:,}\".format(df['currentapprovalamount'].sum()))"
   ]
  },
  {
   "cell_type": "code",
   "execution_count": 110,
   "metadata": {},
   "outputs": [
    {
     "name": "stdout",
     "output_type": "stream",
     "text": [
      "Total Forgiveness Amount: 387,036,551,909.91974\n"
     ]
    }
   ],
   "source": [
    "print(\"Total Forgiveness Amount: \" + \"{:,}\".format(df['forgivenessamount'].sum()))\n"
   ]
  },
  {
   "cell_type": "markdown",
   "metadata": {},
   "source": [
    "# Observing relationship between Forgiveness amount and Jobs created\n",
    "\n",
    "Linear Regression"
   ]
  },
  {
   "cell_type": "code",
   "execution_count": 117,
   "metadata": {},
   "outputs": [
    {
     "data": {
      "text/html": [
       "<div>\n",
       "<style scoped>\n",
       "    .dataframe tbody tr th:only-of-type {\n",
       "        vertical-align: middle;\n",
       "    }\n",
       "\n",
       "    .dataframe tbody tr th {\n",
       "        vertical-align: top;\n",
       "    }\n",
       "\n",
       "    .dataframe thead th {\n",
       "        text-align: right;\n",
       "    }\n",
       "</style>\n",
       "<table border=\"1\" class=\"dataframe\">\n",
       "  <thead>\n",
       "    <tr style=\"text-align: right;\">\n",
       "      <th></th>\n",
       "      <th>jobsreported</th>\n",
       "      <th>forgivenessamount</th>\n",
       "    </tr>\n",
       "  </thead>\n",
       "  <tbody>\n",
       "    <tr>\n",
       "      <th>0</th>\n",
       "      <td>170.00</td>\n",
       "      <td>137747.78</td>\n",
       "    </tr>\n",
       "    <tr>\n",
       "      <th>1</th>\n",
       "      <td>8.00</td>\n",
       "      <td>110881.96</td>\n",
       "    </tr>\n",
       "    <tr>\n",
       "      <th>2</th>\n",
       "      <td>20.00</td>\n",
       "      <td>91404.43</td>\n",
       "    </tr>\n",
       "    <tr>\n",
       "      <th>3</th>\n",
       "      <td>6.00</td>\n",
       "      <td>79699.96</td>\n",
       "    </tr>\n",
       "    <tr>\n",
       "      <th>4</th>\n",
       "      <td>4.00</td>\n",
       "      <td>57922.48</td>\n",
       "    </tr>\n",
       "  </tbody>\n",
       "</table>\n",
       "</div>"
      ],
      "text/plain": [
       "   jobsreported  forgivenessamount\n",
       "0        170.00          137747.78\n",
       "1          8.00          110881.96\n",
       "2         20.00           91404.43\n",
       "3          6.00           79699.96\n",
       "4          4.00           57922.48"
      ]
     },
     "execution_count": 117,
     "metadata": {},
     "output_type": "execute_result"
    }
   ],
   "source": [
    "new_df = df[['jobsreported', 'forgivenessamount']].copy().dropna()\n",
    "new_df.head()"
   ]
  },
  {
   "cell_type": "code",
   "execution_count": 118,
   "metadata": {},
   "outputs": [
    {
     "data": {
      "text/html": [
       "<div>\n",
       "<style scoped>\n",
       "    .dataframe tbody tr th:only-of-type {\n",
       "        vertical-align: middle;\n",
       "    }\n",
       "\n",
       "    .dataframe tbody tr th {\n",
       "        vertical-align: top;\n",
       "    }\n",
       "\n",
       "    .dataframe thead th {\n",
       "        text-align: right;\n",
       "    }\n",
       "</style>\n",
       "<table border=\"1\" class=\"dataframe\">\n",
       "  <thead>\n",
       "    <tr style=\"text-align: right;\">\n",
       "      <th></th>\n",
       "      <th>jobsreported</th>\n",
       "      <th>forgivenessamount</th>\n",
       "    </tr>\n",
       "  </thead>\n",
       "  <tbody>\n",
       "    <tr>\n",
       "      <th>count</th>\n",
       "      <td>3999450.00</td>\n",
       "      <td>3999450.00</td>\n",
       "    </tr>\n",
       "    <tr>\n",
       "      <th>mean</th>\n",
       "      <td>11.29</td>\n",
       "      <td>96772.29</td>\n",
       "    </tr>\n",
       "    <tr>\n",
       "      <th>std</th>\n",
       "      <td>30.74</td>\n",
       "      <td>317108.31</td>\n",
       "    </tr>\n",
       "    <tr>\n",
       "      <th>min</th>\n",
       "      <td>0.00</td>\n",
       "      <td>0.01</td>\n",
       "    </tr>\n",
       "    <tr>\n",
       "      <th>25%</th>\n",
       "      <td>1.00</td>\n",
       "      <td>10823.23</td>\n",
       "    </tr>\n",
       "    <tr>\n",
       "      <th>50%</th>\n",
       "      <td>3.00</td>\n",
       "      <td>22808.55</td>\n",
       "    </tr>\n",
       "    <tr>\n",
       "      <th>75%</th>\n",
       "      <td>9.00</td>\n",
       "      <td>69227.03</td>\n",
       "    </tr>\n",
       "    <tr>\n",
       "      <th>max</th>\n",
       "      <td>500.00</td>\n",
       "      <td>10123888.89</td>\n",
       "    </tr>\n",
       "  </tbody>\n",
       "</table>\n",
       "</div>"
      ],
      "text/plain": [
       "       jobsreported  forgivenessamount\n",
       "count    3999450.00         3999450.00\n",
       "mean          11.29           96772.29\n",
       "std           30.74          317108.31\n",
       "min            0.00               0.01\n",
       "25%            1.00           10823.23\n",
       "50%            3.00           22808.55\n",
       "75%            9.00           69227.03\n",
       "max          500.00        10123888.89"
      ]
     },
     "execution_count": 118,
     "metadata": {},
     "output_type": "execute_result"
    }
   ],
   "source": [
    "new_df.describe()"
   ]
  },
  {
   "cell_type": "code",
   "execution_count": 119,
   "metadata": {},
   "outputs": [
    {
     "data": {
      "text/plain": [
       "<AxesSubplot:>"
      ]
     },
     "execution_count": 119,
     "metadata": {},
     "output_type": "execute_result"
    },
    {
     "data": {
      "image/png": "[encoded data removed]",
      "text/plain": [
       "<Figure size 1800x720 with 2 Axes>"
      ]
     },
     "metadata": {
      "needs_background": "light"
     },
     "output_type": "display_data"
    }
   ],
   "source": [
    "msno.matrix(new_df)"
   ]
  },
  {
   "cell_type": "code",
   "execution_count": 139,
   "metadata": {},
   "outputs": [],
   "source": [
    "X = np.array(new_df['forgivenessamount'], dtype=np.float32)\n",
    "y = np.array(new_df['jobsreported'], dtype=np.float32)\n",
    "\n"
   ]
  },
  {
   "cell_type": "code",
   "execution_count": 140,
   "metadata": {},
   "outputs": [],
   "source": [
    "X = torch.from_numpy(X)\n",
    "y = torch.from_numpy(y)"
   ]
  },
  {
   "cell_type": "code",
   "execution_count": 143,
   "metadata": {},
   "outputs": [],
   "source": [
    "dataset = TensorDataset(X, y)"
   ]
  },
  {
   "cell_type": "code",
   "execution_count": 144,
   "metadata": {},
   "outputs": [
    {
     "data": {
      "text/plain": [
       "3999450"
      ]
     },
     "execution_count": 144,
     "metadata": {},
     "output_type": "execute_result"
    }
   ],
   "source": [
    "len(dataset)"
   ]
  },
  {
   "cell_type": "code",
   "execution_count": 145,
   "metadata": {},
   "outputs": [
    {
     "data": {
      "text/plain": [
       "(tensor([137747.7812, 110881.9609,  91404.4297]), tensor([170.,   8.,  20.]))"
      ]
     },
     "execution_count": 145,
     "metadata": {},
     "output_type": "execute_result"
    }
   ],
   "source": [
    "dataset[:3]"
   ]
  },
  {
   "cell_type": "code",
   "execution_count": null,
   "metadata": {},
   "outputs": [],
   "source": [
    "datalen = len(dataset)\n",
    "\n",
    "\n",
    "train_data, test_data = torch.utils.data.random_split(dataset, )"
   ]
  },
  {
   "cell_type": "markdown",
   "metadata": {},
   "source": [
    "# Linear Regression Using Pytorch"
   ]
  },
  {
   "cell_type": "code",
   "execution_count": 128,
   "metadata": {},
   "outputs": [],
   "source": [
    "class LinearRegression(nn.Module):\n",
    "    def __init__(self, n_inputs, n_outputs):\n",
    "        super(LinearRegression, self).__init__()\n",
    "        self.linear = nn.Linear(n_inputs, n_outputs)\n",
    "\n",
    "    def forward(self, x): \n",
    "        out = self.linear(x)\n",
    "        return out "
   ]
  },
  {
   "cell_type": "markdown",
   "metadata": {},
   "source": [
    "Initiate model and set params "
   ]
  },
  {
   "cell_type": "code",
   "execution_count": 129,
   "metadata": {},
   "outputs": [],
   "source": [
    "n_inputs = 1    # number of features (x)\n",
    "n_outputs = 1   # number of labels   (y)\n",
    "learning_rate = 0.01\n",
    "n_epochs = 100\n",
    "\n",
    "model = LinearRegression(n_inputs, n_outputs)"
   ]
  },
  {
   "cell_type": "markdown",
   "metadata": {},
   "source": [
    "Loss functions and optimizer. Mean Squared Error will calculate the loss and optimization will be donne using Stochastic Gradient Descent. "
   ]
  },
  {
   "cell_type": "code",
   "execution_count": 130,
   "metadata": {},
   "outputs": [],
   "source": [
    "criterion = nn.MSELoss()\n",
    "optimizer = torch.optim.SGD(model.parameters(), lr=learning_rate)"
   ]
  },
  {
   "cell_type": "code",
   "execution_count": 131,
   "metadata": {},
   "outputs": [
    {
     "name": "stdout",
     "output_type": "stream",
     "text": [
      "tensor(2.1955e+10, grad_fn=<MseLossBackward0>)\n",
      "epoch 0, loss 21954650112.0\n",
      "tensor(1.0465e+29, grad_fn=<MseLossBackward0>)\n",
      "epoch 1, loss 1.0465287364245436e+29\n",
      "tensor(inf, grad_fn=<MseLossBackward0>)\n",
      "epoch 2, loss inf\n",
      "tensor(inf, grad_fn=<MseLossBackward0>)\n",
      "epoch 3, loss inf\n",
      "tensor(inf, grad_fn=<MseLossBackward0>)\n",
      "epoch 4, loss inf\n",
      "tensor(nan, grad_fn=<MseLossBackward0>)\n",
      "epoch 5, loss nan\n",
      "tensor(nan, grad_fn=<MseLossBackward0>)\n",
      "epoch 6, loss nan\n",
      "tensor(nan, grad_fn=<MseLossBackward0>)\n",
      "epoch 7, loss nan\n",
      "tensor(nan, grad_fn=<MseLossBackward0>)\n",
      "epoch 8, loss nan\n",
      "tensor(nan, grad_fn=<MseLossBackward0>)\n",
      "epoch 9, loss nan\n",
      "tensor(nan, grad_fn=<MseLossBackward0>)\n",
      "epoch 10, loss nan\n",
      "tensor(nan, grad_fn=<MseLossBackward0>)\n",
      "epoch 11, loss nan\n",
      "tensor(nan, grad_fn=<MseLossBackward0>)\n",
      "epoch 12, loss nan\n",
      "tensor(nan, grad_fn=<MseLossBackward0>)\n",
      "epoch 13, loss nan\n",
      "tensor(nan, grad_fn=<MseLossBackward0>)\n",
      "epoch 14, loss nan\n",
      "tensor(nan, grad_fn=<MseLossBackward0>)\n",
      "epoch 15, loss nan\n",
      "tensor(nan, grad_fn=<MseLossBackward0>)\n",
      "epoch 16, loss nan\n",
      "tensor(nan, grad_fn=<MseLossBackward0>)\n",
      "epoch 17, loss nan\n",
      "tensor(nan, grad_fn=<MseLossBackward0>)\n",
      "epoch 18, loss nan\n",
      "tensor(nan, grad_fn=<MseLossBackward0>)\n",
      "epoch 19, loss nan\n",
      "tensor(nan, grad_fn=<MseLossBackward0>)\n",
      "epoch 20, loss nan\n",
      "tensor(nan, grad_fn=<MseLossBackward0>)\n",
      "epoch 21, loss nan\n",
      "tensor(nan, grad_fn=<MseLossBackward0>)\n",
      "epoch 22, loss nan\n",
      "tensor(nan, grad_fn=<MseLossBackward0>)\n",
      "epoch 23, loss nan\n",
      "tensor(nan, grad_fn=<MseLossBackward0>)\n",
      "epoch 24, loss nan\n",
      "tensor(nan, grad_fn=<MseLossBackward0>)\n",
      "epoch 25, loss nan\n",
      "tensor(nan, grad_fn=<MseLossBackward0>)\n",
      "epoch 26, loss nan\n",
      "tensor(nan, grad_fn=<MseLossBackward0>)\n",
      "epoch 27, loss nan\n",
      "tensor(nan, grad_fn=<MseLossBackward0>)\n",
      "epoch 28, loss nan\n",
      "tensor(nan, grad_fn=<MseLossBackward0>)\n",
      "epoch 29, loss nan\n",
      "tensor(nan, grad_fn=<MseLossBackward0>)\n",
      "epoch 30, loss nan\n",
      "tensor(nan, grad_fn=<MseLossBackward0>)\n",
      "epoch 31, loss nan\n",
      "tensor(nan, grad_fn=<MseLossBackward0>)\n",
      "epoch 32, loss nan\n",
      "tensor(nan, grad_fn=<MseLossBackward0>)\n",
      "epoch 33, loss nan\n",
      "tensor(nan, grad_fn=<MseLossBackward0>)\n",
      "epoch 34, loss nan\n",
      "tensor(nan, grad_fn=<MseLossBackward0>)\n",
      "epoch 35, loss nan\n",
      "tensor(nan, grad_fn=<MseLossBackward0>)\n",
      "epoch 36, loss nan\n",
      "tensor(nan, grad_fn=<MseLossBackward0>)\n",
      "epoch 37, loss nan\n",
      "tensor(nan, grad_fn=<MseLossBackward0>)\n",
      "epoch 38, loss nan\n",
      "tensor(nan, grad_fn=<MseLossBackward0>)\n",
      "epoch 39, loss nan\n",
      "tensor(nan, grad_fn=<MseLossBackward0>)\n",
      "epoch 40, loss nan\n",
      "tensor(nan, grad_fn=<MseLossBackward0>)\n",
      "epoch 41, loss nan\n",
      "tensor(nan, grad_fn=<MseLossBackward0>)\n",
      "epoch 42, loss nan\n",
      "tensor(nan, grad_fn=<MseLossBackward0>)\n",
      "epoch 43, loss nan\n",
      "tensor(nan, grad_fn=<MseLossBackward0>)\n",
      "epoch 44, loss nan\n",
      "tensor(nan, grad_fn=<MseLossBackward0>)\n",
      "epoch 45, loss nan\n",
      "tensor(nan, grad_fn=<MseLossBackward0>)\n",
      "epoch 46, loss nan\n",
      "tensor(nan, grad_fn=<MseLossBackward0>)\n",
      "epoch 47, loss nan\n",
      "tensor(nan, grad_fn=<MseLossBackward0>)\n",
      "epoch 48, loss nan\n",
      "tensor(nan, grad_fn=<MseLossBackward0>)\n",
      "epoch 49, loss nan\n",
      "tensor(nan, grad_fn=<MseLossBackward0>)\n",
      "epoch 50, loss nan\n",
      "tensor(nan, grad_fn=<MseLossBackward0>)\n",
      "epoch 51, loss nan\n",
      "tensor(nan, grad_fn=<MseLossBackward0>)\n",
      "epoch 52, loss nan\n",
      "tensor(nan, grad_fn=<MseLossBackward0>)\n",
      "epoch 53, loss nan\n",
      "tensor(nan, grad_fn=<MseLossBackward0>)\n",
      "epoch 54, loss nan\n",
      "tensor(nan, grad_fn=<MseLossBackward0>)\n",
      "epoch 55, loss nan\n",
      "tensor(nan, grad_fn=<MseLossBackward0>)\n",
      "epoch 56, loss nan\n",
      "tensor(nan, grad_fn=<MseLossBackward0>)\n",
      "epoch 57, loss nan\n",
      "tensor(nan, grad_fn=<MseLossBackward0>)\n",
      "epoch 58, loss nan\n",
      "tensor(nan, grad_fn=<MseLossBackward0>)\n",
      "epoch 59, loss nan\n",
      "tensor(nan, grad_fn=<MseLossBackward0>)\n",
      "epoch 60, loss nan\n",
      "tensor(nan, grad_fn=<MseLossBackward0>)\n",
      "epoch 61, loss nan\n",
      "tensor(nan, grad_fn=<MseLossBackward0>)\n",
      "epoch 62, loss nan\n",
      "tensor(nan, grad_fn=<MseLossBackward0>)\n",
      "epoch 63, loss nan\n",
      "tensor(nan, grad_fn=<MseLossBackward0>)\n",
      "epoch 64, loss nan\n",
      "tensor(nan, grad_fn=<MseLossBackward0>)\n",
      "epoch 65, loss nan\n",
      "tensor(nan, grad_fn=<MseLossBackward0>)\n",
      "epoch 66, loss nan\n",
      "tensor(nan, grad_fn=<MseLossBackward0>)\n",
      "epoch 67, loss nan\n",
      "tensor(nan, grad_fn=<MseLossBackward0>)\n",
      "epoch 68, loss nan\n",
      "tensor(nan, grad_fn=<MseLossBackward0>)\n",
      "epoch 69, loss nan\n",
      "tensor(nan, grad_fn=<MseLossBackward0>)\n",
      "epoch 70, loss nan\n",
      "tensor(nan, grad_fn=<MseLossBackward0>)\n",
      "epoch 71, loss nan\n",
      "tensor(nan, grad_fn=<MseLossBackward0>)\n",
      "epoch 72, loss nan\n",
      "tensor(nan, grad_fn=<MseLossBackward0>)\n",
      "epoch 73, loss nan\n",
      "tensor(nan, grad_fn=<MseLossBackward0>)\n",
      "epoch 74, loss nan\n",
      "tensor(nan, grad_fn=<MseLossBackward0>)\n",
      "epoch 75, loss nan\n",
      "tensor(nan, grad_fn=<MseLossBackward0>)\n",
      "epoch 76, loss nan\n",
      "tensor(nan, grad_fn=<MseLossBackward0>)\n",
      "epoch 77, loss nan\n",
      "tensor(nan, grad_fn=<MseLossBackward0>)\n",
      "epoch 78, loss nan\n",
      "tensor(nan, grad_fn=<MseLossBackward0>)\n",
      "epoch 79, loss nan\n",
      "tensor(nan, grad_fn=<MseLossBackward0>)\n",
      "epoch 80, loss nan\n",
      "tensor(nan, grad_fn=<MseLossBackward0>)\n",
      "epoch 81, loss nan\n",
      "tensor(nan, grad_fn=<MseLossBackward0>)\n",
      "epoch 82, loss nan\n",
      "tensor(nan, grad_fn=<MseLossBackward0>)\n",
      "epoch 83, loss nan\n",
      "tensor(nan, grad_fn=<MseLossBackward0>)\n",
      "epoch 84, loss nan\n",
      "tensor(nan, grad_fn=<MseLossBackward0>)\n",
      "epoch 85, loss nan\n",
      "tensor(nan, grad_fn=<MseLossBackward0>)\n",
      "epoch 86, loss nan\n",
      "tensor(nan, grad_fn=<MseLossBackward0>)\n",
      "epoch 87, loss nan\n",
      "tensor(nan, grad_fn=<MseLossBackward0>)\n",
      "epoch 88, loss nan\n",
      "tensor(nan, grad_fn=<MseLossBackward0>)\n",
      "epoch 89, loss nan\n",
      "tensor(nan, grad_fn=<MseLossBackward0>)\n",
      "epoch 90, loss nan\n",
      "tensor(nan, grad_fn=<MseLossBackward0>)\n",
      "epoch 91, loss nan\n",
      "tensor(nan, grad_fn=<MseLossBackward0>)\n",
      "epoch 92, loss nan\n",
      "tensor(nan, grad_fn=<MseLossBackward0>)\n",
      "epoch 93, loss nan\n",
      "tensor(nan, grad_fn=<MseLossBackward0>)\n",
      "epoch 94, loss nan\n",
      "tensor(nan, grad_fn=<MseLossBackward0>)\n",
      "epoch 95, loss nan\n",
      "tensor(nan, grad_fn=<MseLossBackward0>)\n",
      "epoch 96, loss nan\n",
      "tensor(nan, grad_fn=<MseLossBackward0>)\n",
      "epoch 97, loss nan\n",
      "tensor(nan, grad_fn=<MseLossBackward0>)\n",
      "epoch 98, loss nan\n",
      "tensor(nan, grad_fn=<MseLossBackward0>)\n",
      "epoch 99, loss nan\n"
     ]
    }
   ],
   "source": [
    "for epoch in range(n_epochs):\n",
    "\n",
    "    inputs = torch.from_numpy(X_train)\n",
    "    labels = torch.from_numpy(y_train)\n",
    "\n",
    "    optimizer.zero_grad()\n",
    "    outputs = model(inputs)\n",
    "\n",
    "    loss = criterion(outputs, labels)\n",
    "    print(loss)\n",
    "    loss.backward()\n",
    "    optimizer.step()\n",
    "\n",
    "    print(f'epoch {epoch}, loss {loss.item()}')\n",
    "    \n"
   ]
  },
  {
   "cell_type": "code",
   "execution_count": null,
   "metadata": {},
   "outputs": [],
   "source": []
  }
 ],
 "metadata": {
  "interpreter": {
   "hash": "f3358073929bd3d27ff594bc6528257efc4213b34ba9d7c6bd240dce3a23a83d"
  },
  "kernelspec": {
   "display_name": "Python 3.9.7 64-bit ('torch_env': conda)",
   "language": "python",
   "name": "python3"
  },
  "language_info": {
   "codemirror_mode": {
    "name": "ipython",
    "version": 3
   },
   "file_extension": ".py",
   "mimetype": "text/x-python",
   "name": "python",
   "nbconvert_exporter": "python",
   "pygments_lexer": "ipython3",
   "version": "3.9.7"
  },
  "orig_nbformat": 4
 },
 "nbformat": 4,
 "nbformat_minor": 2
}
